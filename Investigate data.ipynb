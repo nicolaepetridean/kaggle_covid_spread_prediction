{
 "cells": [
  {
   "cell_type": "code",
   "execution_count": null,
   "metadata": {},
   "outputs": [],
   "source": [
    "import numpy as np\n",
    "import pandas as pd"
   ]
  },
  {
   "cell_type": "code",
   "execution_count": 336,
   "metadata": {},
   "outputs": [],
   "source": [
    "import matplotlib.pyplot as plt"
   ]
  },
  {
   "cell_type": "code",
   "execution_count": 337,
   "metadata": {},
   "outputs": [],
   "source": [
    "%matplotlib inline"
   ]
  },
  {
   "cell_type": "code",
   "execution_count": null,
   "metadata": {},
   "outputs": [],
   "source": [
    "df = pd.read_csv('train.csv')\n",
    "df_test = pd.read_csv('test.csv')"
   ]
  },
  {
   "cell_type": "code",
   "execution_count": null,
   "metadata": {},
   "outputs": [],
   "source": [
    "df = df.fillna('NaN')\n",
    "df_test = df_test.fillna('NaN')"
   ]
  },
  {
   "cell_type": "code",
   "execution_count": null,
   "metadata": {},
   "outputs": [],
   "source": [
    "dates_countries = df.groupby(['Date', 'Country_Region'], as_index=False)\\\n",
    "                    .agg({'ConfirmedCases': 'sum', 'Fatalities': 'sum'})\n",
    "\n",
    "dates_countries['Date'] = pd.to_datetime(dates_countries['Date'])\n",
    "training_mask = np.logical_and(pd.to_datetime('2020-01-19') < dates_countries['Date'],\n",
    "                               dates_countries['Date'] < pd.to_datetime('2020-03-19'))\n",
    "data = dates_countries[training_mask].copy()\n",
    "data.loc[:, ('ConfirmedCases', 'Fatalities')] = data.loc[:, ['ConfirmedCases', 'Fatalities']] \\\n",
    "                                                .apply(lambda x: np.log1p(x))\n",
    "data.replace([np.inf, -np.inf], 0, inplace=True)"
   ]
  },
  {
   "cell_type": "code",
   "execution_count": null,
   "metadata": {},
   "outputs": [],
   "source": [
    "data.loc[:, ('ConfirmedCases', 'Fatalities')] = data.loc[:, ['ConfirmedCases', 'Fatalities']] \\\n",
    "                                                .apply(lambda x: np.log1p(x))\n",
    "data.replace([np.inf, -np.inf], 0, inplace=True)"
   ]
  },
  {
   "cell_type": "code",
   "execution_count": null,
   "metadata": {},
   "outputs": [],
   "source": [
    "def lagging(df, lags=10):\n",
    "    dfs = []\n",
    "    for i in range(1, lags):\n",
    "        lag_df = df.shift(i, fill_value=0)\n",
    "        lag_df = lag_df.rename(lambda x: x + f'_{i}', axis=1)\n",
    "        dfs.append(lag_df)\n",
    "    \n",
    "    return pd.concat(dfs, axis=1)"
   ]
  },
  {
   "cell_type": "code",
   "execution_count": null,
   "metadata": {},
   "outputs": [],
   "source": [
    "from sklearn.preprocessing import LabelEncoder"
   ]
  },
  {
   "cell_type": "code",
   "execution_count": null,
   "metadata": {},
   "outputs": [],
   "source": [
    "le = LabelEncoder()\n",
    "data['Day_num'] = le.fit_transform(data.Date)\n",
    "data['Day'] = data['Date'].dt.day\n",
    "data['Month'] = data['Date'].dt.month"
   ]
  },
  {
   "cell_type": "code",
   "execution_count": null,
   "metadata": {},
   "outputs": [],
   "source": [
    "country_dfs = []\n",
    "for country in ['Italy']:#dates_countries['Country_Region'].unique():\n",
    "    country_mask = data['Country_Region'] == country\n",
    "    country_df = data.loc[country_mask]\n",
    "    lags_df = lagging(country_df[['ConfirmedCases', 'Fatalities']])\n",
    "    country_df = pd.concat([country_df, lags_df], axis=1).dropna()"
   ]
  },
  {
   "cell_type": "markdown",
   "metadata": {},
   "source": [
    "## ML Brute-force"
   ]
  },
  {
   "cell_type": "code",
   "execution_count": 272,
   "metadata": {},
   "outputs": [],
   "source": [
    "def timeseries_train_test_split(X, y, test_size):\n",
    "    \"\"\"\n",
    "        Perform train-test split with respect to time series structure\n",
    "    \"\"\"\n",
    "    \n",
    "    # get the index after which test set starts\n",
    "    test_index = int(len(X)*(1-test_size))\n",
    "    \n",
    "    X_train = X.iloc[:test_index]\n",
    "    y_train = y.iloc[:test_index]\n",
    "    X_test = X.iloc[test_index:]\n",
    "    y_test = y.iloc[test_index:]\n",
    "    \n",
    "    return X_train, X_test, y_train, y_test"
   ]
  },
  {
   "cell_type": "code",
   "execution_count": 275,
   "metadata": {},
   "outputs": [],
   "source": [
    "from sklearn.model_selection import TimeSeriesSplit\n",
    "\n",
    "def timeseriesCVscore(model, X, y, n_splits, loss_function):\n",
    "    \"\"\"\n",
    "        Returns error on CV  \n",
    "        \n",
    "        params - vector of parameters for optimization\n",
    "        series - dataset with timeseries\n",
    "        slen - season length for Holt-Winters model\n",
    "    \"\"\"\n",
    "    # errors array\n",
    "    errors = []\n",
    "\n",
    "    \n",
    "    # set the number of folds for cross-validation\n",
    "    tscv = TimeSeriesSplit(n_splits=n_splits) \n",
    "    \n",
    "    # iterating over folds, train model on each, forecast and calculate error\n",
    "    for train, test in tscv.split(X, y):\n",
    "        start_time = time.time()\n",
    "        model = model.fit(X[train], y[train])\n",
    "        fit_time = time.time() - start_time\n",
    "        \n",
    "        y_pred = model.predict(X[test])\n",
    "        y_true = y[test]\n",
    "        error = loss_function(y_pred, y_true)\n",
    "        score_time = time.time() - start_time - fit_time\n",
    "        errors.append(error)\n",
    "        \n",
    "        cv_results['train_score'].append()\n",
    "        cv_results['test_score'].append(error)\n",
    "    \n",
    "    res\n",
    "    return np.mean(np.array(errors))"
   ]
  },
  {
   "cell_type": "code",
   "execution_count": 276,
   "metadata": {},
   "outputs": [],
   "source": [
    "import seaborn as sns\n",
    "import math"
   ]
  },
  {
   "cell_type": "code",
   "execution_count": 277,
   "metadata": {},
   "outputs": [],
   "source": [
    "from sklearn.linear_model import LogisticRegression\n",
    "from sklearn.metrics import accuracy_score, log_loss, hinge_loss, f1_score, precision_score\n",
    "from sklearn import svm, tree, linear_model, neighbors, naive_bayes, ensemble, discriminant_analysis, gaussian_process\n",
    "from sklearn import model_selection\n",
    "from sklearn.model_selection import LeaveOneOut\n",
    "from sklearn.model_selection import KFold\n",
    "from sklearn import metrics\n",
    "from sklearn.model_selection import train_test_split"
   ]
  },
  {
   "cell_type": "code",
   "execution_count": 299,
   "metadata": {},
   "outputs": [],
   "source": [
    "import warnings\n",
    "from sklearn import feature_selection\n",
    "from sklearn import model_selection\n",
    "from sklearn import tree\n",
    "import warnings\n",
    "\n",
    "warnings.filterwarnings(\"ignore\")"
   ]
  },
  {
   "cell_type": "code",
   "execution_count": 279,
   "metadata": {},
   "outputs": [],
   "source": [
    "from tqdm import tqdm_notebook as tqdm"
   ]
  },
  {
   "cell_type": "code",
   "execution_count": null,
   "metadata": {},
   "outputs": [],
   "source": [
    "# data_pred[['Predicted_ConfirmedCases', 'Predicted_Fatalities']] = data_pred[['Predicted_ConfirmedCases', 'Predicted_Fatalities']].apply(lambda x: np.expm1(x))\n",
    "# data_pred.replace([np.inf, -np.inf], 0, inplace=True) "
   ]
  },
  {
   "cell_type": "code",
   "execution_count": 293,
   "metadata": {},
   "outputs": [],
   "source": [
    "y_confirmed = country_df['ConfirmedCases'].to_numpy()\n",
    "y_fatalities = country_df['Fatalities'].to_numpy()\n",
    "X_train = country_df.drop(columns=['Date', 'Country_Region', 'ConfirmedCases', 'Fatalities'])"
   ]
  },
  {
   "cell_type": "code",
   "execution_count": 294,
   "metadata": {},
   "outputs": [
    {
     "name": "stdout",
     "output_type": "stream",
     "text": [
      "(57, 22) (57,)\n"
     ]
    }
   ],
   "source": [
    "print(X_train.shape, y_confirmed.shape)"
   ]
  },
  {
   "cell_type": "code",
   "execution_count": 347,
   "metadata": {
    "scrolled": false
   },
   "outputs": [
    {
     "data": {
      "application/vnd.jupyter.widget-view+json": {
       "model_id": "89502bcc400a447b87096a97f5fd6a48",
       "version_major": 2,
       "version_minor": 0
      },
      "text/plain": [
       "HBox(children=(IntProgress(value=1, bar_style='info', max=1), HTML(value='')))"
      ]
     },
     "metadata": {},
     "output_type": "display_data"
    },
    {
     "name": "stdout",
     "output_type": "stream",
     "text": [
      "Training: AdaBoostRegressor\n",
      "Training: BaggingRegressor\n",
      "Training: ExtraTreesRegressor\n",
      "Training: RandomForestRegressor\n",
      "Training: GradientBoostingRegressor\n",
      "Training: RandomForestRegressor\n",
      "Training: PassiveAggressiveRegressor\n",
      "Training: Ridge\n",
      "Training: KNeighborsRegressor\n",
      "Training: SVR\n",
      "Training: NuSVR\n",
      "Training: LinearSVR\n",
      "\n"
     ]
    }
   ],
   "source": [
    "ML_methods = [\n",
    "    ensemble.AdaBoostRegressor(),\n",
    "    ensemble.BaggingRegressor(),\n",
    "    ensemble.ExtraTreesRegressor(),\n",
    "    ensemble.RandomForestRegressor(),\n",
    "    ensemble.GradientBoostingRegressor(),\n",
    "    ensemble.RandomForestRegressor(),\n",
    "#     linear_model.LogisticRegression(),\n",
    "    linear_model.PassiveAggressiveRegressor(),\n",
    "    linear_model.Ridge(),\n",
    "#     linear_model.SGDRegressor(),\n",
    "#     linear_model.Perceptron(),\n",
    "#     naive_bayes.BernoulliNB(),\n",
    "#     naive_bayes.GaussianNB(),\n",
    "    neighbors.KNeighborsRegressor(),\n",
    "    svm.SVR(),\n",
    "    svm.NuSVR(),\n",
    "    svm.LinearSVR(),\n",
    "#     discriminant_analysis.LinearDiscriminantAnalysis(),\n",
    "#     discriminant_analysis.QuadraticDiscriminantAnalysis(),\n",
    "    ]\n",
    "\n",
    "ML_columns = ['ML Name', 'ML Parameters','ML Train Error Mean', 'ML Test Error Mean', 'ML Test Error 3*STD' ,'ML Time']\n",
    "ML_compare = pd.DataFrame(columns = ML_columns)\n",
    "ML_predict = {}\n",
    "# rmsle = metrics.mean_squared_log_error\n",
    "tscv = TimeSeriesSplit(n_splits=3) \n",
    "\n",
    "for row_index, clf in tqdm(enumerate(ML_methods)):\n",
    "    print(f'Training: {clf.__class__.__name__}')\n",
    "    cv_results = model_selection.cross_validate(clf, X_train, y_confirmed, cv=tscv, scoring='neg_mean_squared_error')\n",
    "\n",
    "    ML_name = clf.__class__.__name__\n",
    "    ML_compare.loc[row_index, 'ML Name'] = ML_name\n",
    "    ML_compare.loc[row_index, 'ML Parameters'] = str(clf.get_params())\n",
    "    ML_compare.loc[row_index, 'ML Time'] = cv_results['fit_time'].mean()\n",
    "    ML_compare.loc[row_index, 'ML Train Error Mean'] = -1 * cv_results['train_score'].mean()\n",
    "    ML_compare.loc[row_index, 'ML Test Error Mean'] = -1 * cv_results['test_score'].mean()   \n",
    "    ML_compare.loc[row_index, 'ML Test Error 3*STD'] = 3 * cv_results['test_score'].std()\n",
    "\n",
    "    clf = clf.fit(X_train, y_confirmed)\n",
    "    ML_predict[ML_name] = clf.predict(X_train)"
   ]
  },
  {
   "cell_type": "code",
   "execution_count": 348,
   "metadata": {},
   "outputs": [
    {
     "data": {
      "text/html": [
       "<div>\n",
       "<style scoped>\n",
       "    .dataframe tbody tr th:only-of-type {\n",
       "        vertical-align: middle;\n",
       "    }\n",
       "\n",
       "    .dataframe tbody tr th {\n",
       "        vertical-align: top;\n",
       "    }\n",
       "\n",
       "    .dataframe thead th {\n",
       "        text-align: right;\n",
       "    }\n",
       "</style>\n",
       "<table border=\"1\" class=\"dataframe\">\n",
       "  <thead>\n",
       "    <tr style=\"text-align: right;\">\n",
       "      <th></th>\n",
       "      <th>ML Name</th>\n",
       "      <th>ML Parameters</th>\n",
       "      <th>ML Train Error Mean</th>\n",
       "      <th>ML Test Error Mean</th>\n",
       "      <th>ML Test Error 3*STD</th>\n",
       "      <th>ML Time</th>\n",
       "    </tr>\n",
       "  </thead>\n",
       "  <tbody>\n",
       "    <tr>\n",
       "      <th>7</th>\n",
       "      <td>Ridge</td>\n",
       "      <td>{'alpha': 1.0, 'copy_X': True, 'fit_intercept'...</td>\n",
       "      <td>0.0184021</td>\n",
       "      <td>0.214056</td>\n",
       "      <td>0.711044</td>\n",
       "      <td>0.00154281</td>\n",
       "    </tr>\n",
       "    <tr>\n",
       "      <th>2</th>\n",
       "      <td>ExtraTreesRegressor</td>\n",
       "      <td>{'bootstrap': False, 'criterion': 'mse', 'max_...</td>\n",
       "      <td>1.09481e-32</td>\n",
       "      <td>0.392585</td>\n",
       "      <td>1.57781</td>\n",
       "      <td>0.0145557</td>\n",
       "    </tr>\n",
       "    <tr>\n",
       "      <th>4</th>\n",
       "      <td>GradientBoostingRegressor</td>\n",
       "      <td>{'alpha': 0.9, 'criterion': 'friedman_mse', 'i...</td>\n",
       "      <td>9.48816e-08</td>\n",
       "      <td>0.393571</td>\n",
       "      <td>1.57706</td>\n",
       "      <td>0.0172546</td>\n",
       "    </tr>\n",
       "    <tr>\n",
       "      <th>0</th>\n",
       "      <td>AdaBoostRegressor</td>\n",
       "      <td>{'base_estimator': None, 'learning_rate': 1.0,...</td>\n",
       "      <td>1.83371e-05</td>\n",
       "      <td>0.396812</td>\n",
       "      <td>1.56905</td>\n",
       "      <td>0.0219994</td>\n",
       "    </tr>\n",
       "    <tr>\n",
       "      <th>5</th>\n",
       "      <td>RandomForestRegressor</td>\n",
       "      <td>{'bootstrap': True, 'criterion': 'mse', 'max_d...</td>\n",
       "      <td>0.00460279</td>\n",
       "      <td>0.405045</td>\n",
       "      <td>1.5925</td>\n",
       "      <td>0.013897</td>\n",
       "    </tr>\n",
       "    <tr>\n",
       "      <th>1</th>\n",
       "      <td>BaggingRegressor</td>\n",
       "      <td>{'base_estimator': None, 'bootstrap': True, 'b...</td>\n",
       "      <td>0.0048637</td>\n",
       "      <td>0.406721</td>\n",
       "      <td>1.56812</td>\n",
       "      <td>0.041961</td>\n",
       "    </tr>\n",
       "    <tr>\n",
       "      <th>3</th>\n",
       "      <td>RandomForestRegressor</td>\n",
       "      <td>{'bootstrap': True, 'criterion': 'mse', 'max_d...</td>\n",
       "      <td>0.00309007</td>\n",
       "      <td>0.406936</td>\n",
       "      <td>1.60879</td>\n",
       "      <td>0.01075</td>\n",
       "    </tr>\n",
       "    <tr>\n",
       "      <th>8</th>\n",
       "      <td>KNeighborsRegressor</td>\n",
       "      <td>{'algorithm': 'auto', 'leaf_size': 30, 'metric...</td>\n",
       "      <td>0.0195362</td>\n",
       "      <td>0.407195</td>\n",
       "      <td>1.54744</td>\n",
       "      <td>0.00184695</td>\n",
       "    </tr>\n",
       "    <tr>\n",
       "      <th>11</th>\n",
       "      <td>LinearSVR</td>\n",
       "      <td>{'C': 1.0, 'dual': True, 'epsilon': 0.0, 'fit_...</td>\n",
       "      <td>0.0837308</td>\n",
       "      <td>0.420727</td>\n",
       "      <td>0.996183</td>\n",
       "      <td>0.00237258</td>\n",
       "    </tr>\n",
       "    <tr>\n",
       "      <th>10</th>\n",
       "      <td>NuSVR</td>\n",
       "      <td>{'C': 1.0, 'cache_size': 200, 'coef0': 0.0, 'd...</td>\n",
       "      <td>0.0087905</td>\n",
       "      <td>1.07681</td>\n",
       "      <td>1.93264</td>\n",
       "      <td>0.00175381</td>\n",
       "    </tr>\n",
       "    <tr>\n",
       "      <th>9</th>\n",
       "      <td>SVR</td>\n",
       "      <td>{'C': 1.0, 'cache_size': 200, 'coef0': 0.0, 'd...</td>\n",
       "      <td>0.0127869</td>\n",
       "      <td>1.10304</td>\n",
       "      <td>2.04501</td>\n",
       "      <td>0.00163802</td>\n",
       "    </tr>\n",
       "    <tr>\n",
       "      <th>6</th>\n",
       "      <td>PassiveAggressiveRegressor</td>\n",
       "      <td>{'C': 1.0, 'average': False, 'early_stopping':...</td>\n",
       "      <td>0.776015</td>\n",
       "      <td>1.12601</td>\n",
       "      <td>4.5398</td>\n",
       "      <td>0.00223096</td>\n",
       "    </tr>\n",
       "  </tbody>\n",
       "</table>\n",
       "</div>"
      ],
      "text/plain": [
       "                       ML Name  \\\n",
       "7                        Ridge   \n",
       "2          ExtraTreesRegressor   \n",
       "4    GradientBoostingRegressor   \n",
       "0            AdaBoostRegressor   \n",
       "5        RandomForestRegressor   \n",
       "1             BaggingRegressor   \n",
       "3        RandomForestRegressor   \n",
       "8          KNeighborsRegressor   \n",
       "11                   LinearSVR   \n",
       "10                       NuSVR   \n",
       "9                          SVR   \n",
       "6   PassiveAggressiveRegressor   \n",
       "\n",
       "                                        ML Parameters ML Train Error Mean  \\\n",
       "7   {'alpha': 1.0, 'copy_X': True, 'fit_intercept'...           0.0184021   \n",
       "2   {'bootstrap': False, 'criterion': 'mse', 'max_...         1.09481e-32   \n",
       "4   {'alpha': 0.9, 'criterion': 'friedman_mse', 'i...         9.48816e-08   \n",
       "0   {'base_estimator': None, 'learning_rate': 1.0,...         1.83371e-05   \n",
       "5   {'bootstrap': True, 'criterion': 'mse', 'max_d...          0.00460279   \n",
       "1   {'base_estimator': None, 'bootstrap': True, 'b...           0.0048637   \n",
       "3   {'bootstrap': True, 'criterion': 'mse', 'max_d...          0.00309007   \n",
       "8   {'algorithm': 'auto', 'leaf_size': 30, 'metric...           0.0195362   \n",
       "11  {'C': 1.0, 'dual': True, 'epsilon': 0.0, 'fit_...           0.0837308   \n",
       "10  {'C': 1.0, 'cache_size': 200, 'coef0': 0.0, 'd...           0.0087905   \n",
       "9   {'C': 1.0, 'cache_size': 200, 'coef0': 0.0, 'd...           0.0127869   \n",
       "6   {'C': 1.0, 'average': False, 'early_stopping':...            0.776015   \n",
       "\n",
       "   ML Test Error Mean ML Test Error 3*STD     ML Time  \n",
       "7            0.214056            0.711044  0.00154281  \n",
       "2            0.392585             1.57781   0.0145557  \n",
       "4            0.393571             1.57706   0.0172546  \n",
       "0            0.396812             1.56905   0.0219994  \n",
       "5            0.405045              1.5925    0.013897  \n",
       "1            0.406721             1.56812    0.041961  \n",
       "3            0.406936             1.60879     0.01075  \n",
       "8            0.407195             1.54744  0.00184695  \n",
       "11           0.420727            0.996183  0.00237258  \n",
       "10            1.07681             1.93264  0.00175381  \n",
       "9             1.10304             2.04501  0.00163802  \n",
       "6             1.12601              4.5398  0.00223096  "
      ]
     },
     "execution_count": 348,
     "metadata": {},
     "output_type": "execute_result"
    }
   ],
   "source": [
    "ML_compare.sort_values(by = ['ML Test Error Mean'], ascending = True, inplace = True)\n",
    "ML_compare"
   ]
  },
  {
   "cell_type": "code",
   "execution_count": 349,
   "metadata": {},
   "outputs": [
    {
     "data": {
      "text/plain": [
       "Text(0,0.5,'Algorithm')"
      ]
     },
     "execution_count": 349,
     "metadata": {},
     "output_type": "execute_result"
    },
    {
     "data": {
      "image/png": "[encoded data removed]",
      "text/plain": [
       "<Figure size 1080x504 with 1 Axes>"
      ]
     },
     "metadata": {
      "needs_background": "light"
     },
     "output_type": "display_data"
    }
   ],
   "source": [
    "plt.figure(figsize=(15, 7))\n",
    "sns.barplot(x='ML Test Error Mean', y = 'ML Name', data = ML_compare, color = 'm')\n",
    "plt.title('Machine Learning Algorithms Score \\n')\n",
    "plt.xlabel('RMSLE Score')\n",
    "plt.ylabel('Algorithm')"
   ]
  },
  {
   "cell_type": "code",
   "execution_count": null,
   "metadata": {},
   "outputs": [],
   "source": []
  }
 ],
 "metadata": {
  "kernelspec": {
   "display_name": "Python 3",
   "language": "python",
   "name": "python3"
  },
  "language_info": {
   "codemirror_mode": {
    "name": "ipython",
    "version": 3
   },
   "file_extension": ".py",
   "mimetype": "text/x-python",
   "name": "python",
   "nbconvert_exporter": "python",
   "pygments_lexer": "ipython3",
   "version": "3.6.5"
  }
 },
 "nbformat": 4,
 "nbformat_minor": 2
}
