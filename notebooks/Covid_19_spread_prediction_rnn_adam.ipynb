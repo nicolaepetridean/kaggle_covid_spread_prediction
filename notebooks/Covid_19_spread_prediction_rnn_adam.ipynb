{
 "cells": [
  {
   "cell_type": "markdown",
   "metadata": {},
   "source": [
    "# COVID-19\n",
    "#### Fitting a RNN network onto country with similar growth"
   ]
  },
  {
   "cell_type": "markdown",
   "metadata": {},
   "source": [
    "The aim of this notebook is to provide a solution for predicting the feature spread of the COVID-19 pandemic using Reccurent Neural Networks. Besides this, it is inteded to be educational and to explaing some basic concepts of working and using a RNN in the context of multi-time series prediction."
   ]
  },
  {
   "cell_type": "markdown",
   "metadata": {},
   "source": [
    "## Introduction"
   ]
  },
  {
   "cell_type": "markdown",
   "metadata": {},
   "source": [
    "Training a single model for all countries can raise a multitude of problems one of them being data scaling. Neural networks need data represented in a small interval, usually in the range \\[-1, 1\\]. The samples that we are working with consist of the number of confirmed cases and fatalities, each of it being grouped by country. These entries have a very high standard deviation and trying to normalize this data by applying a single scale factor over the whole dataset will lead to into a big preccision loss and would not help at all. We address this problem by diving the training for each individual country and only consider its nearest neighbours inn terms of COVID-19 spread growth. "
   ]
  },
  {
   "cell_type": "markdown",
   "metadata": {},
   "source": [
    "## Imports"
   ]
  },
  {
   "cell_type": "markdown",
   "metadata": {},
   "source": [
    "Set-up environment"
   ]
  },
  {
   "cell_type": "code",
   "execution_count": 1,
   "metadata": {},
   "outputs": [],
   "source": [
    "import os\n",
    "import warnings \n",
    "warnings.filterwarnings('ignore')\n",
    "os.chdir('..')"
   ]
  },
  {
   "cell_type": "markdown",
   "metadata": {},
   "source": [
    "Importing external packages."
   ]
  },
  {
   "cell_type": "code",
   "execution_count": 2,
   "metadata": {},
   "outputs": [],
   "source": [
    "import time\n",
    "import torch\n",
    "import statistics\n",
    "\n",
    "import numpy   as np \n",
    "import pandas  as pd\n",
    "\n",
    "import seaborn as sns\n",
    "from matplotlib import pyplot as plt\n",
    "\n",
    "from sklearn.metrics       import mean_squared_log_error\n",
    "from sklearn.preprocessing import StandardScaler\n",
    "\n",
    "from tqdm             import tqdm\n",
    "from IPython.display  import display \n",
    "\n",
    "from torch import nn\n",
    "from torch import optim\n",
    "from torch.optim import lr_scheduler"
   ]
  },
  {
   "cell_type": "markdown",
   "metadata": {},
   "source": [
    "Import local packages"
   ]
  },
  {
   "cell_type": "code",
   "execution_count": 3,
   "metadata": {},
   "outputs": [],
   "source": [
    "from core.data      import compare_countries as cc\n",
    "from core.data      import utils             as dataUtils\n",
    "\n",
    "from core.nn        import WeightInitializer\n",
    "from core.nn.loss   import l1_norm_error\n",
    "from core.nn.loss   import GradientSmoothLoss\n",
    "\n",
    "from core.networks  import BasicRecurrentPredictor"
   ]
  },
  {
   "cell_type": "code",
   "execution_count": 4,
   "metadata": {},
   "outputs": [],
   "source": [
    "# set values for reproduceble results\n",
    "torch.manual_seed(123);\n",
    "torch.cuda.manual_seed(123)\n",
    "np.random.seed(123)\n",
    "torch.backends.cudnn.deterministic = True"
   ]
  },
  {
   "cell_type": "markdown",
   "metadata": {},
   "source": [
    "### Globals"
   ]
  },
  {
   "cell_type": "code",
   "execution_count": 5,
   "metadata": {},
   "outputs": [],
   "source": [
    "COUNTRY      = 'Czechia'\n",
    "DEVICE       = 'cpu'\n",
    "TRAIN_UP_TO  = pd.to_datetime('2020-05-21')"
   ]
  },
  {
   "cell_type": "markdown",
   "metadata": {},
   "source": [
    "## Data"
   ]
  },
  {
   "cell_type": "markdown",
   "metadata": {},
   "source": [
    "The initial data which this notebook used is the one from [Kaggle's COVID-19 spread prediciton](https://www.kaggle.com/c/covid19-global-forecasting-week-4) competition. It consists of countries and their states (where needed) and the number of confirmed cases and fatalities per day. Because this source will no longer be updated, the data will be collected from this [GitHub](https://github.com/CSSEGISandData/COVID-19) repository  created by Johns Hopkins CSSE. Also the sources ```.csv``` have different formats(columns), I have chosen to work with the original format.\n",
    "\n",
    "Inorder to use this notebook with the latest data, please run the script ```scripts/convert_data_format.py ```. This will download the data direct from the repo and convert it to the appropiate format."
   ]
  },
  {
   "cell_type": "markdown",
   "metadata": {},
   "source": [
    "### Loading the data"
   ]
  },
  {
   "cell_type": "code",
   "execution_count": 6,
   "metadata": {},
   "outputs": [
    {
     "data": {
      "text/html": [
       "<div>\n",
       "<style scoped>\n",
       "    .dataframe tbody tr th:only-of-type {\n",
       "        vertical-align: middle;\n",
       "    }\n",
       "\n",
       "    .dataframe tbody tr th {\n",
       "        vertical-align: top;\n",
       "    }\n",
       "\n",
       "    .dataframe thead th {\n",
       "        text-align: right;\n",
       "    }\n",
       "</style>\n",
       "<table border=\"1\" class=\"dataframe\">\n",
       "  <thead>\n",
       "    <tr style=\"text-align: right;\">\n",
       "      <th></th>\n",
       "      <th>Province_State</th>\n",
       "      <th>Country_Region</th>\n",
       "      <th>Date</th>\n",
       "      <th>ConfirmedCases</th>\n",
       "      <th>Fatalities</th>\n",
       "    </tr>\n",
       "  </thead>\n",
       "  <tbody>\n",
       "    <tr>\n",
       "      <th>0</th>\n",
       "      <td>NaN</td>\n",
       "      <td>Afghanistan</td>\n",
       "      <td>2020-01-22</td>\n",
       "      <td>0.0</td>\n",
       "      <td>0.0</td>\n",
       "    </tr>\n",
       "    <tr>\n",
       "      <th>1</th>\n",
       "      <td>NaN</td>\n",
       "      <td>Afghanistan</td>\n",
       "      <td>2020-01-23</td>\n",
       "      <td>0.0</td>\n",
       "      <td>0.0</td>\n",
       "    </tr>\n",
       "    <tr>\n",
       "      <th>2</th>\n",
       "      <td>NaN</td>\n",
       "      <td>Afghanistan</td>\n",
       "      <td>2020-01-24</td>\n",
       "      <td>0.0</td>\n",
       "      <td>0.0</td>\n",
       "    </tr>\n",
       "    <tr>\n",
       "      <th>3</th>\n",
       "      <td>NaN</td>\n",
       "      <td>Afghanistan</td>\n",
       "      <td>2020-01-25</td>\n",
       "      <td>0.0</td>\n",
       "      <td>0.0</td>\n",
       "    </tr>\n",
       "    <tr>\n",
       "      <th>4</th>\n",
       "      <td>NaN</td>\n",
       "      <td>Afghanistan</td>\n",
       "      <td>2020-01-26</td>\n",
       "      <td>0.0</td>\n",
       "      <td>0.0</td>\n",
       "    </tr>\n",
       "  </tbody>\n",
       "</table>\n",
       "</div>"
      ],
      "text/plain": [
       "  Province_State Country_Region       Date  ConfirmedCases  Fatalities\n",
       "0            NaN    Afghanistan 2020-01-22             0.0         0.0\n",
       "1            NaN    Afghanistan 2020-01-23             0.0         0.0\n",
       "2            NaN    Afghanistan 2020-01-24             0.0         0.0\n",
       "3            NaN    Afghanistan 2020-01-25             0.0         0.0\n",
       "4            NaN    Afghanistan 2020-01-26             0.0         0.0"
      ]
     },
     "execution_count": 6,
     "metadata": {},
     "output_type": "execute_result"
    }
   ],
   "source": [
    "allData = pd.read_csv('assets/covid_spread.csv', parse_dates=['Date'])\n",
    "allData.head()"
   ]
  },
  {
   "cell_type": "markdown",
   "metadata": {},
   "source": [
    "To make the data easier to use, I will work \"Province_State\" based. The preprocessing step will replace the Province_state with the name of the country (if it has no state)."
   ]
  },
  {
   "cell_type": "code",
   "execution_count": 7,
   "metadata": {},
   "outputs": [
    {
     "data": {
      "text/html": [
       "<div>\n",
       "<style scoped>\n",
       "    .dataframe tbody tr th:only-of-type {\n",
       "        vertical-align: middle;\n",
       "    }\n",
       "\n",
       "    .dataframe tbody tr th {\n",
       "        vertical-align: top;\n",
       "    }\n",
       "\n",
       "    .dataframe thead th {\n",
       "        text-align: right;\n",
       "    }\n",
       "</style>\n",
       "<table border=\"1\" class=\"dataframe\">\n",
       "  <thead>\n",
       "    <tr style=\"text-align: right;\">\n",
       "      <th></th>\n",
       "      <th>Province_State</th>\n",
       "      <th>Country_Region</th>\n",
       "      <th>Date</th>\n",
       "      <th>ConfirmedCases</th>\n",
       "      <th>Fatalities</th>\n",
       "    </tr>\n",
       "  </thead>\n",
       "  <tbody>\n",
       "    <tr>\n",
       "      <th>0</th>\n",
       "      <td>Afghanistan</td>\n",
       "      <td>Afghanistan</td>\n",
       "      <td>2020-01-22</td>\n",
       "      <td>0.0</td>\n",
       "      <td>0.0</td>\n",
       "    </tr>\n",
       "    <tr>\n",
       "      <th>1</th>\n",
       "      <td>Afghanistan</td>\n",
       "      <td>Afghanistan</td>\n",
       "      <td>2020-01-23</td>\n",
       "      <td>0.0</td>\n",
       "      <td>0.0</td>\n",
       "    </tr>\n",
       "    <tr>\n",
       "      <th>2</th>\n",
       "      <td>Afghanistan</td>\n",
       "      <td>Afghanistan</td>\n",
       "      <td>2020-01-24</td>\n",
       "      <td>0.0</td>\n",
       "      <td>0.0</td>\n",
       "    </tr>\n",
       "    <tr>\n",
       "      <th>3</th>\n",
       "      <td>Afghanistan</td>\n",
       "      <td>Afghanistan</td>\n",
       "      <td>2020-01-25</td>\n",
       "      <td>0.0</td>\n",
       "      <td>0.0</td>\n",
       "    </tr>\n",
       "    <tr>\n",
       "      <th>4</th>\n",
       "      <td>Afghanistan</td>\n",
       "      <td>Afghanistan</td>\n",
       "      <td>2020-01-26</td>\n",
       "      <td>0.0</td>\n",
       "      <td>0.0</td>\n",
       "    </tr>\n",
       "  </tbody>\n",
       "</table>\n",
       "</div>"
      ],
      "text/plain": [
       "  Province_State Country_Region       Date  ConfirmedCases  Fatalities\n",
       "0    Afghanistan    Afghanistan 2020-01-22             0.0         0.0\n",
       "1    Afghanistan    Afghanistan 2020-01-23             0.0         0.0\n",
       "2    Afghanistan    Afghanistan 2020-01-24             0.0         0.0\n",
       "3    Afghanistan    Afghanistan 2020-01-25             0.0         0.0\n",
       "4    Afghanistan    Afghanistan 2020-01-26             0.0         0.0"
      ]
     },
     "execution_count": 7,
     "metadata": {},
     "output_type": "execute_result"
    }
   ],
   "source": [
    "allData = dataUtils.preprocess_data(allData)\n",
    "allData.head()"
   ]
  },
  {
   "cell_type": "markdown",
   "metadata": {},
   "source": [
    "### Computing the errors"
   ]
  },
  {
   "cell_type": "markdown",
   "metadata": {},
   "source": [
    "In the previous notebook I have explained how getting the nearest neighbour work. But as a short revision, only take the countries which are more \"advanced\" in the pandemic that the source country, select the data using a threshold(for confirmed and fatalities discard everything that is smaller than this) and to search for the smallest error by slidding the source over the target and computing it at every step. The final error is represented by the smalles error, also it is stored the index from which that happened.  \n",
    "\n",
    "The result is a dataframe containing the following:\n",
    "- **Province_State** : the name of the state/province\n",
    "- **deathError**     : the minimum error that was found between source and that specific country for fatalities\n",
    "- **deathIdx**       : the index where the above error was found (in the thresholded array)\n",
    "- **confirmedError** : the minimum error that was found between source and that specific country for confirmed cases\n",
    "- **confirmedIdx**   : the index where the above error was found (in the thresholded array)\n",
    "\n",
    "When comparing, I choose to use **MAPE** (mean absolute percenta error). This will give us the error in percentage relative to the source country, hence being easier to interpret and understand.  \n"
   ]
  },
  {
   "cell_type": "code",
   "execution_count": 8,
   "metadata": {},
   "outputs": [],
   "source": [
    "allData['Org_ConfirmedCases'] = allData['ConfirmedCases']\n",
    "for country in set(allData.Province_State):\n",
    "    idx_loc = allData.Province_State == country\n",
    "    allData.loc[idx_loc, 'ConfirmedCases']=allData.loc[idx_loc, 'ConfirmedCases'].rolling(window=8).mean()\n",
    "    allData = allData.fillna(method='backfill')\n",
    "\n",
    "allData['ConfirmedCases'] = allData.groupby(['Province_State'])['ConfirmedCases'].diff(periods=1)\n",
    "allData['ConfirmedCases'] = allData['ConfirmedCases'].fillna(0)\n",
    "allData['ConfirmedCases'] = np.where(allData['ConfirmedCases'] < 0, 0, allData['ConfirmedCases'])\n"
   ]
  },
  {
   "cell_type": "code",
   "execution_count": 9,
   "metadata": {},
   "outputs": [],
   "source": [
    "allData['ConfirmedCases'] = np.log(allData[\"ConfirmedCases\"] + 1)"
   ]
  },
  {
   "cell_type": "code",
   "execution_count": 10,
   "metadata": {},
   "outputs": [
    {
     "data": {
      "text/html": [
       "<div>\n",
       "<style scoped>\n",
       "    .dataframe tbody tr th:only-of-type {\n",
       "        vertical-align: middle;\n",
       "    }\n",
       "\n",
       "    .dataframe tbody tr th {\n",
       "        vertical-align: top;\n",
       "    }\n",
       "\n",
       "    .dataframe thead th {\n",
       "        text-align: right;\n",
       "    }\n",
       "</style>\n",
       "<table border=\"1\" class=\"dataframe\">\n",
       "  <thead>\n",
       "    <tr style=\"text-align: right;\">\n",
       "      <th></th>\n",
       "      <th>Province_State</th>\n",
       "      <th>deathError</th>\n",
       "      <th>confirmedError</th>\n",
       "      <th>deathIdx</th>\n",
       "      <th>confirmedIdx</th>\n",
       "    </tr>\n",
       "  </thead>\n",
       "  <tbody>\n",
       "    <tr>\n",
       "      <th>24</th>\n",
       "      <td>Malaysia</td>\n",
       "      <td>0.528384</td>\n",
       "      <td>0.077911</td>\n",
       "      <td>1</td>\n",
       "      <td>23</td>\n",
       "    </tr>\n",
       "    <tr>\n",
       "      <th>1</th>\n",
       "      <td>Austria</td>\n",
       "      <td>0.726886</td>\n",
       "      <td>0.081788</td>\n",
       "      <td>0</td>\n",
       "      <td>1</td>\n",
       "    </tr>\n",
       "    <tr>\n",
       "      <th>12</th>\n",
       "      <td>Finland</td>\n",
       "      <td>0.300887</td>\n",
       "      <td>0.133897</td>\n",
       "      <td>0</td>\n",
       "      <td>0</td>\n",
       "    </tr>\n",
       "    <tr>\n",
       "      <th>11</th>\n",
       "      <td>Denmark</td>\n",
       "      <td>0.473416</td>\n",
       "      <td>0.143541</td>\n",
       "      <td>0</td>\n",
       "      <td>0</td>\n",
       "    </tr>\n",
       "    <tr>\n",
       "      <th>19</th>\n",
       "      <td>Israel</td>\n",
       "      <td>0.183785</td>\n",
       "      <td>0.189119</td>\n",
       "      <td>0</td>\n",
       "      <td>2</td>\n",
       "    </tr>\n",
       "  </tbody>\n",
       "</table>\n",
       "</div>"
      ],
      "text/plain": [
       "   Province_State  deathError  confirmedError deathIdx confirmedIdx\n",
       "24       Malaysia    0.528384        0.077911        1           23\n",
       "1         Austria    0.726886        0.081788        0            1\n",
       "12        Finland    0.300887        0.133897        0            0\n",
       "11        Denmark    0.473416        0.143541        0            0\n",
       "19         Israel    0.183785        0.189119        0            2"
      ]
     },
     "metadata": {},
     "output_type": "display_data"
    },
    {
     "data": {
      "text/html": [
       "<div>\n",
       "<style scoped>\n",
       "    .dataframe tbody tr th:only-of-type {\n",
       "        vertical-align: middle;\n",
       "    }\n",
       "\n",
       "    .dataframe tbody tr th {\n",
       "        vertical-align: top;\n",
       "    }\n",
       "\n",
       "    .dataframe thead th {\n",
       "        text-align: right;\n",
       "    }\n",
       "</style>\n",
       "<table border=\"1\" class=\"dataframe\">\n",
       "  <thead>\n",
       "    <tr style=\"text-align: right;\">\n",
       "      <th></th>\n",
       "      <th>Province_State</th>\n",
       "      <th>deathError</th>\n",
       "      <th>confirmedError</th>\n",
       "      <th>deathIdx</th>\n",
       "      <th>confirmedIdx</th>\n",
       "    </tr>\n",
       "  </thead>\n",
       "  <tbody>\n",
       "    <tr>\n",
       "      <th>19</th>\n",
       "      <td>Israel</td>\n",
       "      <td>0.183785</td>\n",
       "      <td>0.189119</td>\n",
       "      <td>0</td>\n",
       "      <td>2</td>\n",
       "    </tr>\n",
       "    <tr>\n",
       "      <th>12</th>\n",
       "      <td>Finland</td>\n",
       "      <td>0.300887</td>\n",
       "      <td>0.133897</td>\n",
       "      <td>0</td>\n",
       "      <td>0</td>\n",
       "    </tr>\n",
       "    <tr>\n",
       "      <th>22</th>\n",
       "      <td>Korea, South</td>\n",
       "      <td>0.360679</td>\n",
       "      <td>0.236123</td>\n",
       "      <td>0</td>\n",
       "      <td>0</td>\n",
       "    </tr>\n",
       "    <tr>\n",
       "      <th>27</th>\n",
       "      <td>Norway</td>\n",
       "      <td>0.366325</td>\n",
       "      <td>0.222973</td>\n",
       "      <td>2</td>\n",
       "      <td>0</td>\n",
       "    </tr>\n",
       "    <tr>\n",
       "      <th>11</th>\n",
       "      <td>Denmark</td>\n",
       "      <td>0.473416</td>\n",
       "      <td>0.143541</td>\n",
       "      <td>0</td>\n",
       "      <td>0</td>\n",
       "    </tr>\n",
       "  </tbody>\n",
       "</table>\n",
       "</div>"
      ],
      "text/plain": [
       "   Province_State  deathError  confirmedError deathIdx confirmedIdx\n",
       "19         Israel    0.183785        0.189119        0            2\n",
       "12        Finland    0.300887        0.133897        0            0\n",
       "22   Korea, South    0.360679        0.236123        0            0\n",
       "27         Norway    0.366325        0.222973        2            0\n",
       "11        Denmark    0.473416        0.143541        0            0"
      ]
     },
     "metadata": {},
     "output_type": "display_data"
    }
   ],
   "source": [
    "errorData  = cc.get_nearest_sequence(allData, COUNTRY, \n",
    "                                     alignThreshConf = 0.2,\n",
    "                                     alignThreshDead = 0.2,  \n",
    "                                     errorFunc       = l1_norm_error\n",
    "                                    )\n",
    "\n",
    "display(errorData.sort_values(by='confirmedError').head())\n",
    "display(errorData.sort_values(by='deathError').head())\n",
    "allData['ConfirmedCases'] = allData['Org_ConfirmedCases']"
   ]
  },
  {
   "cell_type": "markdown",
   "metadata": {},
   "source": [
    "### Creating traning data"
   ]
  },
  {
   "cell_type": "markdown",
   "metadata": {},
   "source": [
    "We select the for training only the countries that have an average error smaller that a threshold. I do this for both confirmed cases and fatalities and this is due to the fact that there are goinf to be trained one RNN model for each attribute. This will be further splitted andtransformed into bacthes splitted into test and validation data."
   ]
  },
  {
   "cell_type": "code",
   "execution_count": 11,
   "metadata": {},
   "outputs": [
    {
     "data": {
      "text/html": [
       "<div>\n",
       "<style scoped>\n",
       "    .dataframe tbody tr th:only-of-type {\n",
       "        vertical-align: middle;\n",
       "    }\n",
       "\n",
       "    .dataframe tbody tr th {\n",
       "        vertical-align: top;\n",
       "    }\n",
       "\n",
       "    .dataframe thead th {\n",
       "        text-align: right;\n",
       "    }\n",
       "</style>\n",
       "<table border=\"1\" class=\"dataframe\">\n",
       "  <thead>\n",
       "    <tr style=\"text-align: right;\">\n",
       "      <th></th>\n",
       "      <th>Date</th>\n",
       "      <th>Province_State</th>\n",
       "      <th>ConfirmedCases</th>\n",
       "    </tr>\n",
       "  </thead>\n",
       "  <tbody>\n",
       "    <tr>\n",
       "      <th>21720</th>\n",
       "      <td>2020-01-25</td>\n",
       "      <td>Malaysia</td>\n",
       "      <td>3.0</td>\n",
       "    </tr>\n",
       "    <tr>\n",
       "      <th>21721</th>\n",
       "      <td>2020-01-26</td>\n",
       "      <td>Malaysia</td>\n",
       "      <td>4.0</td>\n",
       "    </tr>\n",
       "    <tr>\n",
       "      <th>21722</th>\n",
       "      <td>2020-01-27</td>\n",
       "      <td>Malaysia</td>\n",
       "      <td>4.0</td>\n",
       "    </tr>\n",
       "    <tr>\n",
       "      <th>21723</th>\n",
       "      <td>2020-01-28</td>\n",
       "      <td>Malaysia</td>\n",
       "      <td>4.0</td>\n",
       "    </tr>\n",
       "    <tr>\n",
       "      <th>21724</th>\n",
       "      <td>2020-01-29</td>\n",
       "      <td>Malaysia</td>\n",
       "      <td>7.0</td>\n",
       "    </tr>\n",
       "  </tbody>\n",
       "</table>\n",
       "</div>"
      ],
      "text/plain": [
       "            Date Province_State  ConfirmedCases\n",
       "21720 2020-01-25       Malaysia             3.0\n",
       "21721 2020-01-26       Malaysia             4.0\n",
       "21722 2020-01-27       Malaysia             4.0\n",
       "21723 2020-01-28       Malaysia             4.0\n",
       "21724 2020-01-29       Malaysia             7.0"
      ]
     },
     "execution_count": 11,
     "metadata": {},
     "output_type": "execute_result"
    }
   ],
   "source": [
    "confData = dataUtils.get_target_data(allData, errorData, \n",
    "                                     errorThresh = .45, \n",
    "                                     country     = COUNTRY, \n",
    "                                     target      = 'confirmed')\n",
    "deadData = dataUtils.get_target_data(allData, errorData, \n",
    "                                     errorThresh = .45, \n",
    "                                     country     = COUNTRY, \n",
    "                                     target      = 'fatalities')\n",
    "\n",
    "confData.head()"
   ]
  },
  {
   "cell_type": "markdown",
   "metadata": {},
   "source": [
    "One important aspect is scaling the date. I will use the [StandardScaler](https://scikit-learn.org/stable/modules/generated/sklearn.preprocessing.StandardScaler.html) because a small standard deviation is expected for features. This scaler will be further used for scaling both the training data and the model predictions."
   ]
  },
  {
   "cell_type": "code",
   "execution_count": 12,
   "metadata": {},
   "outputs": [],
   "source": [
    "confScaler = dataUtils.get_scaler(confData, 'confirmed')\n",
    "deadScaler = dataUtils.get_scaler(deadData, 'fatalities')"
   ]
  },
  {
   "cell_type": "markdown",
   "metadata": {},
   "source": [
    "## Predicting"
   ]
  },
  {
   "cell_type": "markdown",
   "metadata": {},
   "source": [
    "### Model"
   ]
  },
  {
   "cell_type": "markdown",
   "metadata": {},
   "source": [
    "The reccurent predictor is composed from 2 parts:\n",
    "- reccurent cells  \n",
    "- multi layer perceptron that is applied after each encoded timpestamp \n",
    "Each part will be individually configured. For a detailed view, you can consult [networks](core/networks) package."
   ]
  },
  {
   "cell_type": "markdown",
   "metadata": {},
   "source": [
    "We are going to train 2 individual models for each feature, Confirmed Cases and Fatalities. The reason for this _split_ is the fact the data is not of equal length and this would be a little bit of an overhead for solving in this notebook. "
   ]
  },
  {
   "cell_type": "markdown",
   "metadata": {},
   "source": [
    "In the following section, I will explain and motivate the configuration and personal choices that I have made: "
   ]
  },
  {
   "cell_type": "markdown",
   "metadata": {},
   "source": [
    "![RNN_Flow](../assets/images/rnn_model.png)"
   ]
  },
  {
   "cell_type": "markdown",
   "metadata": {},
   "source": [
    "#### Parameters"
   ]
  },
  {
   "cell_type": "markdown",
   "metadata": {},
   "source": [
    "These define overall shapes of the data and the size of the embeddings:\n",
    "- **chNo**   : the number of input and output features, they must have the same length, in out case this       \n",
    "- **future** : the number of timestapms to predict into the feature "
   ]
  },
  {
   "cell_type": "markdown",
   "metadata": {},
   "source": [
    "#### RNN parameters"
   ]
  },
  {
   "cell_type": "markdown",
   "metadata": {},
   "source": [
    "- **rnnCell** : RNN cell types that are supported in Pytorch (LSTM/GRU/RNN), the most powerfull one is LSTM, though, having a small amount of data(like in our case) GRU may be better choice thus is generalize better. RNNCell is also an option yet, but it yielded the worst results\n",
    "- **rnnNoCells** : represent the number of reccurent cells in the model a higher number leads to a very unstable model (especially for this task) and the exploding gradients problem occurs very often during training \n",
    "- **hidChNo** : number of RNN cell hidden dimension\n",
    "\n",
    "**Note**: yes, this part could have been implemented using the higher level and more optimized [API](https://pytorch.org/docs/stable/nn.html#torch.nn.LSTM) from PyTorch, but I think this is more expressive and easier to understand and it is not such does not require a lot more code"
   ]
  },
  {
   "cell_type": "markdown",
   "metadata": {},
   "source": [
    "#### MLP parameters"
   ]
  },
  {
   "cell_type": "markdown",
   "metadata": {},
   "source": [
    "- **mlpLayerCfg** : a list with the numbers of neurons in each hidden layer. The layers might be wideer but is to be avoided having a very deep network (numerical instability during training and no real benefit from it)\n",
    "- **mlpActiv** : activation layer after each dense/linear layer, I have used [PReLU](https://pytorch.org/docs/stable/nn.html#prelu) which is a sort of learnable loss \n",
    "- **dropRate** : dropout rate applied after each dense/linear layer, for our case 0 is used\n",
    "- **normType** : normalization layer, not used used\n",
    "- **mlpActivLast** : last layer activation function "
   ]
  },
  {
   "cell_type": "markdown",
   "metadata": {},
   "source": [
    "## Training"
   ]
  },
  {
   "cell_type": "markdown",
   "metadata": {},
   "source": [
    "Because the both Confirmed and Fatalities are going to follow the same lead and only a few parameters will vary, I will only explain once everything and add a few notes if that will be necessarly. "
   ]
  },
  {
   "cell_type": "code",
   "execution_count": 13,
   "metadata": {},
   "outputs": [],
   "source": [
    "w = WeightInitializer()"
   ]
  },
  {
   "cell_type": "markdown",
   "metadata": {},
   "source": [
    "### Confirmed"
   ]
  },
  {
   "cell_type": "markdown",
   "metadata": {},
   "source": [
    "For this section we have more data, since the cases have started earlier and the fatalities came later on. "
   ]
  },
  {
   "cell_type": "markdown",
   "metadata": {},
   "source": [
    "#### Model"
   ]
  },
  {
   "cell_type": "markdown",
   "metadata": {},
   "source": [
    "Let's initialize the model:"
   ]
  },
  {
   "cell_type": "code",
   "execution_count": 14,
   "metadata": {},
   "outputs": [],
   "source": [
    "# build the model\n",
    "confModel = BasicRecurrentPredictor(\n",
    "            # parameters\n",
    "            chNo        = 1,          # number of input features\n",
    "            future      = 0,\n",
    "            returnFullSeq = True,     # return both the encoded sequence \n",
    "                                      # and the future prediction\n",
    "    \n",
    "            # RNN\n",
    "            rnnCell     = 'LSTMCell', # RNN cell type (LSTM/GRU/RNN)\n",
    "            rnnNoCells  = 1,          # no of RNN cells\n",
    "            hidChNo     = 16,         # number of RNN cell hidden dimension\n",
    "            \n",
    "            # MLP\n",
    "            mlpLayerCfg   = [4],      # layer hidden dims\n",
    "            mlpActiv      = 'PReLU',  # inner activation of the mlp\n",
    "            dropRate      = None,     # dropout rate for each layer of mlp\n",
    "            normType      = None,     # normalization type\n",
    "            mlpActivLast  = None      # note that every timestamp \n",
    "                                      # in the sequence will be activated too\n",
    "            \n",
    "            ).build()"
   ]
  },
  {
   "cell_type": "markdown",
   "metadata": {},
   "source": [
    "Moving on, the model will have the weights initialized as as follows:\n",
    "- RNN : default (provided by PyTorch)\n",
    "- MLP : normal distribution"
   ]
  },
  {
   "cell_type": "code",
   "execution_count": 15,
   "metadata": {},
   "outputs": [],
   "source": [
    "w.init_weights(confModel, 'normal_', {})"
   ]
  },
  {
   "cell_type": "markdown",
   "metadata": {},
   "source": [
    "#### Timming constants"
   ]
  },
  {
   "cell_type": "markdown",
   "metadata": {},
   "source": [
    "![data_model](../assets/images/data_diagram.png)"
   ]
  },
  {
   "cell_type": "markdown",
   "metadata": {},
   "source": [
    "Now we need to define timming constants: \n",
    "- **winSize**     - the  size of observation period and prediction period \n",
    "- **obsSize**     - number of timestemps used for observation\n",
    "- **futureSteps** - the number of predicted days, not including the observation perioud\n",
    "- **supPredSteps** - are the number predicted days that are going to be optimized in a supervised manner\n",
    "- **uPredSteps** - are the number predicted days that are going to be optimized in an unsupervised manner\n",
    "- **allPredSteps** - the total length of the prediction output including the observation period and the future steps\n",
    "\n",
    "Please check the above scheme for a better understanding."
   ]
  },
  {
   "cell_type": "code",
   "execution_count": 16,
   "metadata": {},
   "outputs": [],
   "source": [
    "winSize       = 16\n",
    "obsSize       = 14\n",
    "futureSteps   = 16\n",
    "supPredSteps  = winSize - obsSize\n",
    "uPredSteps    = futureSteps - supPredSteps\n",
    "allPredSteps  = futureSteps + obsSize"
   ]
  },
  {
   "cell_type": "markdown",
   "metadata": {},
   "source": [
    "#### Train Data"
   ]
  },
  {
   "cell_type": "markdown",
   "metadata": {},
   "source": [
    "Split the dataframe from the previously selected data into batches and normalize it. The data is only select until a specific date, and the rest is left for validation.  "
   ]
  },
  {
   "cell_type": "code",
   "execution_count": 17,
   "metadata": {},
   "outputs": [
    {
     "data": {
      "text/plain": [
       "torch.Size([2063, 16, 1])"
      ]
     },
     "execution_count": 17,
     "metadata": {},
     "output_type": "execute_result"
    }
   ],
   "source": [
    "confTrainData = dataUtils.get_train_data(confData, 'confirmed', \n",
    "                                  step       = 1,\n",
    "                                  winSize    = winSize, \n",
    "                                  trainLimit = TRAIN_UP_TO, \n",
    "                                  scaler     = confScaler,\n",
    "                                  shuffle    = True)\n",
    "confTrainData.shape"
   ]
  },
  {
   "cell_type": "markdown",
   "metadata": {},
   "source": [
    "#### Loss"
   ]
  },
  {
   "cell_type": "markdown",
   "metadata": {},
   "source": [
    "$$ \\mathcal{L}_{total} = \\mathcal{L}_{sup} + \\mathcal{L}_{unsup} $$"
   ]
  },
  {
   "cell_type": "markdown",
   "metadata": {},
   "source": [
    "##### Supervised loss"
   ]
  },
  {
   "cell_type": "markdown",
   "metadata": {},
   "source": [
    "As training loss we use [SmoothL1Loss](https://pytorch.org/docs/stable/nn.html#torch.nn.SmoothL1Loss)(Huber Loss), it is less sensitive to outliers than MSELoss and prevents exploding gradients."
   ]
  },
  {
   "cell_type": "code",
   "execution_count": 18,
   "metadata": {},
   "outputs": [],
   "source": [
    "# def rmsle_error(source, candidate):\n",
    "#     candidate += 1e-30\n",
    "#     error = torch.log10((source + 1) / (candidate + 1))\n",
    "#     error = error * error\n",
    "#     error = error.mean()\n",
    "#     return error\n",
    "\n",
    "confLoss  = nn.SmoothL1Loss()"
   ]
  },
  {
   "cell_type": "markdown",
   "metadata": {},
   "source": [
    "##### Unsupervised loss"
   ]
  },
  {
   "cell_type": "markdown",
   "metadata": {},
   "source": [
    "It may not be very straight forward from data that the output should somehow resemble a logistic curve, so do this we are trying to optimize this in an unsupervised manner. A smoothing loss, is implied which will limit the growth of a function over a large periods. \n",
    "\n",
    "To better scale this loss and to make it more stable, insead of scaling the final result I chose clipping the values before averaging them. \n",
    "\n",
    "Please note that the the length of the prediciton and the clipping values are considered hyperparameters, and they should be tuned for each country."
   ]
  },
  {
   "cell_type": "code",
   "execution_count": 19,
   "metadata": {},
   "outputs": [],
   "source": [
    "gradsTrain  = confTrainData[:, 1:] - confTrainData[:, :-1] \n",
    "confGradMax = gradsTrain.max()\n",
    "\n",
    "confGLoss   = GradientSmoothLoss(confGradMax, uPredSteps )"
   ]
  },
  {
   "cell_type": "markdown",
   "metadata": {},
   "source": [
    "#### Optimizer"
   ]
  },
  {
   "cell_type": "markdown",
   "metadata": {},
   "source": [
    "As optimization algorithm the LBFGS one is chosed, it is a very memory expensive algorithm, but since we have such little data, it works just fine. For more details about how it works I leave the following link on [Quora](https://www.quora.com/Is-the-L-bfgs-always-better-than-stochastic-gradient-descent?share=1)."
   ]
  },
  {
   "cell_type": "code",
   "execution_count": 20,
   "metadata": {},
   "outputs": [],
   "source": [
    "confOptim = optim.Adam(confModel.parameters(), lr=0.003)"
   ]
  },
  {
   "cell_type": "markdown",
   "metadata": {},
   "source": [
    "#### Device "
   ]
  },
  {
   "cell_type": "markdown",
   "metadata": {},
   "source": [
    "Now let's move everything on the same device."
   ]
  },
  {
   "cell_type": "code",
   "execution_count": 21,
   "metadata": {},
   "outputs": [],
   "source": [
    "confModel.to(DEVICE);\n",
    "confTrainData = confTrainData.to(DEVICE);"
   ]
  },
  {
   "cell_type": "markdown",
   "metadata": {},
   "source": [
    "#### Closure"
   ]
  },
  {
   "cell_type": "markdown",
   "metadata": {},
   "source": [
    "The closure is the function that is passed to the optimizers. Here is the \"bussines logic\" of the training process. For the first OBS_SIZE steps, the models prediction is based on the input data, from there, it uses it's own prediction. The whole sequence is returned and evaluted for optimization. \n",
    "\n",
    "For better stability, after the loss is computed, the gradients are clipped such that their L2 norm is 1. For more details check this [article](https://machinelearningmastery.com/exploding-gradients-in-neural-networks/) by Jason Brownlee."
   ]
  },
  {
   "cell_type": "markdown",
   "metadata": {},
   "source": [
    "![image.png](../assets/images/model_data.png)"
   ]
  },
  {
   "cell_type": "markdown",
   "metadata": {},
   "source": [
    "#### Train loop"
   ]
  },
  {
   "cell_type": "markdown",
   "metadata": {},
   "source": [
    "Training loop is the section where the parameters are optimized."
   ]
  },
  {
   "cell_type": "code",
   "execution_count": 22,
   "metadata": {},
   "outputs": [
    {
     "name": "stdout",
     "output_type": "stream",
     "text": [
      "Epoch 0/20, loss: 0.014552216045558453\n",
      "Epoch 1/20, loss: 0.03258829191327095\n",
      "Epoch 2/20, loss: 0.05102109536528587\n",
      "Epoch 3/20, loss: 0.023771682754158974\n",
      "Epoch 4/20, loss: 0.01282650325447321\n",
      "Epoch 5/20, loss: 0.01233859546482563\n",
      "Epoch 6/20, loss: 0.007322969380766153\n",
      "Epoch 7/20, loss: 0.0015444179298356175\n",
      "Epoch 8/20, loss: 0.0018730626907199621\n",
      "Epoch 9/20, loss: 0.0023981044068932533\n",
      "Epoch 10/20, loss: 0.0020518023520708084\n",
      "Epoch 11/20, loss: 0.0014360828790813684\n",
      "Epoch 12/20, loss: 0.004804707132279873\n",
      "Epoch 13/20, loss: 0.0009066520142368972\n",
      "Epoch 14/20, loss: 0.0009664825047366321\n",
      "Epoch 15/20, loss: 0.0011714525753632188\n",
      "Epoch 16/20, loss: 0.0008212531683966517\n",
      "Epoch 17/20, loss: 0.0032916453201323748\n",
      "Epoch 18/20, loss: 0.0007282058359123766\n",
      "Epoch 19/20, loss: 0.0017667805077508092\n"
     ]
    }
   ],
   "source": [
    "batchSize = 16\n",
    "noBatches = confTrainData.shape[0] // batchSize\n",
    "epochs = 20\n",
    "for i in range(epochs):\n",
    "    for batch in range(noBatches):\n",
    "        \n",
    "        confOptim.zero_grad()\n",
    "        confModel.returnFullSeq = True\n",
    "\n",
    "        # slice data\n",
    "        obsData = confTrainData[batch*batchSize:(batch+1)*batchSize,:obsSize]\n",
    "        \n",
    "        # make prediction\n",
    "        out  = confModel(obsData, future = futureSteps)\n",
    "        out  = out.reshape(-1, allPredSteps, 1)\n",
    "\n",
    "        # compute gradients\n",
    "        loss = confLoss(out[:, :winSize], confTrainData[batch*batchSize:(batch+1)*batchSize])\n",
    "        \n",
    "        # unsupervised loss\n",
    "        smoothLoss = confGLoss(out[:,winSize:], 0.25)\n",
    "        loss += smoothLoss \n",
    "\n",
    "        # make prediciton follow an ascending trend\n",
    "        # by forcing the gradients to be positie (still testing)\n",
    "        grads = out[:, 1:] - out[:, :-1]\n",
    "        grads[grads > 0] = 0\n",
    "        grads = grads.mean().abs()\n",
    "        loss += grads\n",
    "        \n",
    "        loss.backward()\n",
    "\n",
    "        # clip gradients / numerical stability\n",
    "        nn.utils.clip_grad_norm_(confModel.parameters(), 1.0)\n",
    "        confOptim.step()\n",
    "\n",
    "\n",
    "        # update tqdm to show loss and lr\n",
    "    print(f\"Epoch {i}/{epochs}, loss: {loss.item()}\")\n",
    "\n",
    "    if torch.isnan(loss):\n",
    "        raise ValueError('Loss is NaN')"
   ]
  },
  {
   "cell_type": "markdown",
   "metadata": {},
   "source": [
    "### Evaluate"
   ]
  },
  {
   "cell_type": "markdown",
   "metadata": {},
   "source": [
    "The evaluation process is done for the source country only. For this, the last OBS_SIZE timestemps from the train data are fed into the model, and the output is compared with data from validation period. "
   ]
  },
  {
   "cell_type": "code",
   "execution_count": 23,
   "metadata": {},
   "outputs": [],
   "source": [
    "confValData, confValLabel = dataUtils.get_val_data(confData, 'confirmed', \n",
    "                                                   COUNTRY, \n",
    "                                                   TRAIN_UP_TO, \n",
    "                                                   obsSize, \n",
    "                                                   confScaler)\n",
    "confValData = confValData.to(DEVICE)"
   ]
  },
  {
   "cell_type": "markdown",
   "metadata": {},
   "source": [
    "For evaluating the prediction, MAPE is used. The error is only computed on the predicted future and not on the predicted observation period. "
   ]
  },
  {
   "cell_type": "code",
   "execution_count": 24,
   "metadata": {},
   "outputs": [
    {
     "name": "stdout",
     "output_type": "stream",
     "text": [
      "MAPE : 0.05222  (not normalized)\n"
     ]
    },
    {
     "data": {
      "image/png": "[encoded data removed]",
      "text/plain": [
       "<Figure size 648x288 with 1 Axes>"
      ]
     },
     "metadata": {
      "needs_background": "light"
     },
     "output_type": "display_data"
    }
   ],
   "source": [
    "confModel.eval()\n",
    "# get figure\n",
    "fig, ax = plt.subplots(1, 1, figsize = (9, 4))\n",
    "ax.tick_params(axis='x', rotation=45)\n",
    "fig.suptitle(COUNTRY + ' confirmed cases prediction')\n",
    "\n",
    "# make prediction\n",
    "confModel.returnFullSeq = False\n",
    "pred   = confModel(confValData, future = 30).cpu().detach().numpy()\n",
    "pred   = confScaler.inverse_transform(pred[0])\n",
    "\n",
    "error  = l1_norm_error(pred[:confValLabel.shape[0]], confValLabel.numpy())\n",
    "print(\"MAPE : %2.5f\"% error.item(), ' (not normalized)')             \n",
    "\n",
    "# prediction\n",
    "predDate = pd.date_range(start = TRAIN_UP_TO, periods=pred.shape[0])              \n",
    "sns.lineplot(y = pred, x = predDate, ax = ax, linewidth=4.5)\n",
    "\n",
    "# plot train data\n",
    "showTrainData = confData[confData['Province_State'] == COUNTRY]\n",
    "showTrainData = showTrainData[showTrainData['Date'] < TRAIN_UP_TO]\n",
    "sns.lineplot(y = 'ConfirmedCases', x = 'Date', data = showTrainData, ax = ax, linewidth=4.5)\n",
    "\n",
    "# plot val data\n",
    "showValData = confData[confData['Province_State'] == COUNTRY]\n",
    "showValData = showValData[showValData['Date'] >= TRAIN_UP_TO]\n",
    "sns.lineplot(y = 'ConfirmedCases', x ='Date', data = showValData, ax = ax, linewidth=4.5);\n",
    "\n",
    "ax.legend(['Pred', 'Train', 'Validation'])\n",
    "ax.axvline(x=TRAIN_UP_TO, ymin = 0.0, ymax = 1.0, linestyle='--', lw = 1, color = '#808080')\n",
    "ax.grid(True)"
   ]
  },
  {
   "cell_type": "markdown",
   "metadata": {},
   "source": [
    "### Fatalities"
   ]
  },
  {
   "cell_type": "markdown",
   "metadata": {},
   "source": [
    "Because all the explication were done in the previous section, here cleaner view of the code is provided."
   ]
  },
  {
   "cell_type": "markdown",
   "metadata": {},
   "source": [
    "#### Model"
   ]
  },
  {
   "cell_type": "markdown",
   "metadata": {},
   "source": [
    "Initialize the model"
   ]
  },
  {
   "cell_type": "code",
   "execution_count": 25,
   "metadata": {},
   "outputs": [],
   "source": [
    "# build the model\n",
    "deadModel = BasicRecurrentPredictor(\n",
    "            # basic parameters\n",
    "            chNo          = 1,              # number of input features\n",
    "            future        = 0,\n",
    "            returnFullSeq = True,\n",
    "    \n",
    "            # RNN\n",
    "            rnnCell       = 'LSTMCell',     # RNN cell type (LSTM/GRU/RNN)\n",
    "            rnnNoCells    = 1,              # no of RNN cells\n",
    "            hidChNo       = 16,             # number of RNN cell hidden dimension\n",
    "    \n",
    "            # MLP\n",
    "            mlpLayerCfg   = [4],            # layer hidden dims\n",
    "            mlpActiv      = 'PReLU',        # inner activation of the mlp\n",
    "            dropRate      = None,           # dropout rate for each layer of mlp\n",
    "            normType      = None,           # normalization type\n",
    "            mlpActivLast  = None,           # note that every timestamp in the sequence \n",
    "                                            # will be activated too\n",
    "            ).build()"
   ]
  },
  {
   "cell_type": "markdown",
   "metadata": {},
   "source": [
    "Initialize models weights."
   ]
  },
  {
   "cell_type": "code",
   "execution_count": 26,
   "metadata": {},
   "outputs": [],
   "source": [
    "w.init_weights(deadModel, 'normal_', {})"
   ]
  },
  {
   "cell_type": "markdown",
   "metadata": {},
   "source": [
    "#### Timming constants"
   ]
  },
  {
   "cell_type": "code",
   "execution_count": 27,
   "metadata": {},
   "outputs": [],
   "source": [
    "winSize       = 10\n",
    "obsSize       = 5\n",
    "futureSteps   = 12\n",
    "supPredSteps  = winSize - obsSize\n",
    "uPredSteps    = futureSteps - supPredSteps\n",
    "allPredSteps  = futureSteps + obsSize"
   ]
  },
  {
   "cell_type": "markdown",
   "metadata": {},
   "source": [
    "#### Train data"
   ]
  },
  {
   "cell_type": "code",
   "execution_count": 28,
   "metadata": {},
   "outputs": [
    {
     "data": {
      "text/plain": [
       "torch.Size([296, 10, 1])"
      ]
     },
     "execution_count": 28,
     "metadata": {},
     "output_type": "execute_result"
    }
   ],
   "source": [
    "deadTrainData = dataUtils.get_train_data(deadData, 'fatalities', \n",
    "                                      step       = 1,\n",
    "                                      winSize    = winSize, \n",
    "                                      trainLimit = TRAIN_UP_TO, \n",
    "                                      scaler     = deadScaler,\n",
    "                                      shuffle    = True)\n",
    "deadTrainData.shape"
   ]
  },
  {
   "cell_type": "markdown",
   "metadata": {},
   "source": [
    "#### Loss"
   ]
  },
  {
   "cell_type": "code",
   "execution_count": 29,
   "metadata": {},
   "outputs": [],
   "source": [
    "deadLoss  = nn.SmoothL1Loss()"
   ]
  },
  {
   "cell_type": "code",
   "execution_count": 30,
   "metadata": {},
   "outputs": [],
   "source": [
    "gradsTrain = deadTrainData[:, 1:] - deadTrainData[:, :-1] \n",
    "deadGradMax = gradsTrain.max()\n",
    "\n",
    "deadGLoss = GradientSmoothLoss(deadGradMax, uPredSteps)"
   ]
  },
  {
   "cell_type": "markdown",
   "metadata": {},
   "source": [
    "#### Optimizer"
   ]
  },
  {
   "cell_type": "code",
   "execution_count": 31,
   "metadata": {},
   "outputs": [],
   "source": [
    "deadOptim = optim.LBFGS(deadModel.parameters(), \n",
    "                        lr             = 0.05, \n",
    "                        max_iter       = 75, \n",
    "                        tolerance_grad = 1e-7, \n",
    "                        history_size   = 75)"
   ]
  },
  {
   "cell_type": "markdown",
   "metadata": {},
   "source": [
    "#### Device"
   ]
  },
  {
   "cell_type": "code",
   "execution_count": 32,
   "metadata": {},
   "outputs": [],
   "source": [
    "deadModel.to(DEVICE);\n",
    "deadTrainData = deadTrainData.to(DEVICE);"
   ]
  },
  {
   "cell_type": "markdown",
   "metadata": {},
   "source": [
    "#### Closure"
   ]
  },
  {
   "cell_type": "code",
   "execution_count": 33,
   "metadata": {},
   "outputs": [],
   "source": [
    "def dead_closure():\n",
    "    deadOptim.zero_grad()\n",
    "    \n",
    "    # slice data\n",
    "    obsData  = deadTrainData[:,:obsSize]\n",
    "\n",
    "    out  = deadModel(obsData, future = futureSteps)\n",
    "    out  = out.reshape(-1, allPredSteps, 1)\n",
    " \n",
    "    # compute and backprop loss\n",
    "    loss = deadLoss(out[:, :winSize], deadTrainData)   \n",
    "    \n",
    "    # smooth\n",
    "    smoothLoss = deadGLoss(out[:,winSize:], 0.25)\n",
    "    loss += smoothLoss\n",
    "    \n",
    "    # make prediciton follow an ascending trend\n",
    "    # (still testing)\n",
    "    grads = out[:, 1:] - out[:, :-1]\n",
    "    grads[grads > 0] = 0\n",
    "    grads = grads.mean().abs()\n",
    "    loss += grads\n",
    "    loss.backward()\n",
    "    \n",
    "    # clip gradient for numerical stability\n",
    "    nn.utils.clip_grad_norm_(deadModel.parameters(), 1.0)\n",
    "    \n",
    "    return loss"
   ]
  },
  {
   "cell_type": "markdown",
   "metadata": {},
   "source": [
    "#### Train loop"
   ]
  },
  {
   "cell_type": "code",
   "execution_count": 34,
   "metadata": {},
   "outputs": [
    {
     "name": "stderr",
     "output_type": "stream",
     "text": [
      "100%|███████████████████████████████████████████████████████████████████████████████████████████████████████████████████████████████████████████████████████████████████████████████████████████████████████████████████████| 10/10 [00:15<00:00,  1.57s/it, Loss =0.00125]\n"
     ]
    }
   ],
   "source": [
    "pBar = tqdm(range(10))\n",
    "for i in pBar:\n",
    "    loss = deadOptim.step(dead_closure)\n",
    "    pBar.set_postfix({'Loss ' : loss.item()})\n",
    "    \n",
    "    if torch.isnan(loss):\n",
    "        raise ValueError('Loss is NaN')"
   ]
  },
  {
   "cell_type": "markdown",
   "metadata": {},
   "source": [
    "### Evaluate"
   ]
  },
  {
   "cell_type": "code",
   "execution_count": 35,
   "metadata": {},
   "outputs": [],
   "source": [
    "deadValData, deadValLabel = dataUtils.get_val_data(deadData, 'fatalities', \n",
    "                                                   COUNTRY, \n",
    "                                                   TRAIN_UP_TO, \n",
    "                                                   obsSize, \n",
    "                                                   deadScaler)\n",
    "deadValData = deadValData.to(DEVICE)"
   ]
  },
  {
   "cell_type": "code",
   "execution_count": 36,
   "metadata": {},
   "outputs": [
    {
     "name": "stdout",
     "output_type": "stream",
     "text": [
      "MAPE:  0.027572019\n"
     ]
    },
    {
     "data": {
      "image/png": "[encoded data removed]",
      "text/plain": [
       "<Figure size 648x288 with 1 Axes>"
      ]
     },
     "metadata": {
      "needs_background": "light"
     },
     "output_type": "display_data"
    }
   ],
   "source": [
    "## deadModel.eval()\n",
    "\n",
    "# get figure\n",
    "fig, ax = plt.subplots(1, 1, figsize = (9, 4))\n",
    "ax.tick_params(axis='x', rotation=45)\n",
    "fig.suptitle(COUNTRY + ' fatalities prediction')\n",
    "\n",
    "# make prediction\n",
    "deadModel.returnFullSeq = False\n",
    "pred   = deadModel(deadValData, future = 30).cpu().detach().numpy()\n",
    "pred   = deadScaler.inverse_transform(pred[0])\n",
    "error  = l1_norm_error(pred[:deadValLabel.shape[0]], deadValLabel.numpy())\n",
    "print('MAPE: ', error)             \n",
    "\n",
    "# plot prediction\n",
    "predDate = pd.date_range(start = TRAIN_UP_TO, periods=pred.shape[0])              \n",
    "sns.lineplot(y = pred, x = predDate, ax = ax, linewidth=4.5 )\n",
    "\n",
    "# plot train data\n",
    "showTrainData = deadData[deadData['Province_State'] == COUNTRY]\n",
    "showTrainData = showTrainData[showTrainData['Date'] < TRAIN_UP_TO]\n",
    "sns.lineplot(y = 'Fatalities', x = 'Date', data = showTrainData, ax = ax, linewidth=4.5)\n",
    "\n",
    "# plot val data\n",
    "showValData = deadData[deadData['Province_State'] == COUNTRY]\n",
    "showValData = showValData[showValData['Date'] >= TRAIN_UP_TO]\n",
    "sns.lineplot(y = 'Fatalities', x ='Date', data = showValData, ax = ax, linewidth=4.5);\n",
    "\n",
    "ax.legend(['Pred', 'Train', 'Validation'])\n",
    "ax.axvline(x=TRAIN_UP_TO, ymin = 0.0, ymax = 1.0, linestyle='--', lw = 1, color = '#808080')\n",
    "ax.grid(True)"
   ]
  }
 ],
 "metadata": {
  "kernelspec": {
   "display_name": "Python 3",
   "language": "python",
   "name": "python3"
  },
  "language_info": {
   "codemirror_mode": {
    "name": "ipython",
    "version": 3
   },
   "file_extension": ".py",
   "mimetype": "text/x-python",
   "name": "python",
   "nbconvert_exporter": "python",
   "pygments_lexer": "ipython3",
   "version": "3.7.7"
  }
 },
 "nbformat": 4,
 "nbformat_minor": 4
}
