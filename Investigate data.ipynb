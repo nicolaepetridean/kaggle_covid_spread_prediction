{
 "cells": [
  {
   "cell_type": "code",
   "execution_count": null,
   "metadata": {},
   "outputs": [],
   "source": [
    "import numpy as np\n",
    "import pandas as pd"
   ]
  },
  {
   "cell_type": "code",
   "execution_count": null,
   "metadata": {},
   "outputs": [],
   "source": [
    "import matplotlib as plt"
   ]
  },
  {
   "cell_type": "code",
   "execution_count": null,
   "metadata": {},
   "outputs": [],
   "source": [
    "%matplotlib inline"
   ]
  },
  {
   "cell_type": "code",
   "execution_count": null,
   "metadata": {},
   "outputs": [],
   "source": [
    "df = pd.read_csv('train.csv')\n",
    "df_test = pd.read_csv('test.csv')"
   ]
  },
  {
   "cell_type": "code",
   "execution_count": null,
   "metadata": {},
   "outputs": [],
   "source": [
    "df = df.fillna('NaN')\n",
    "df_test = df_test.fillna('NaN')"
   ]
  },
  {
   "cell_type": "code",
   "execution_count": null,
   "metadata": {},
   "outputs": [],
   "source": [
    "dates_countries = df.groupby(['Date', 'Country_Region'], as_index=False)\\\n",
    "                    .agg({'ConfirmedCases': 'sum', 'Fatalities': 'sum'})\n",
    "\n",
    "dates_countries['Date'] = pd.to_datetime(dates_countries['Date'])\n",
    "training_mask = np.logical_and(pd.to_datetime('2020-01-19') < dates_countries['Date'],\n",
    "                               dates_countries['Date'] < pd.to_datetime('2020-03-19'))\n",
    "data = dates_countries[training_mask].copy()\n",
    "data.loc[:, ('ConfirmedCases', 'Fatalities')] = data.loc[:, ['ConfirmedCases', 'Fatalities']] \\\n",
    "                                                .apply(lambda x: np.log1p(x))\n",
    "data.replace([np.inf, -np.inf], 0, inplace=True)"
   ]
  },
  {
   "cell_type": "code",
   "execution_count": null,
   "metadata": {},
   "outputs": [],
   "source": [
    "data.loc[:, ('ConfirmedCases', 'Fatalities')] = data.loc[:, ['ConfirmedCases', 'Fatalities']] \\\n",
    "                                                .apply(lambda x: np.log1p(x))\n",
    "data.replace([np.inf, -np.inf], 0, inplace=True)"
   ]
  },
  {
   "cell_type": "code",
   "execution_count": null,
   "metadata": {},
   "outputs": [],
   "source": [
    "def lagging(df, lags=10):\n",
    "    dfs = []\n",
    "    for i in range(1, lags):\n",
    "        lag_df = df.shift(i, fill_value=0)\n",
    "        lag_df = lag_df.rename(lambda x: x + f'_{i}', axis=1)\n",
    "        dfs.append(lag_df)\n",
    "    \n",
    "    return pd.concat(dfs, axis=1)"
   ]
  },
  {
   "cell_type": "code",
   "execution_count": null,
   "metadata": {},
   "outputs": [],
   "source": [
    "from sklearn.preprocessing import LabelEncoder"
   ]
  },
  {
   "cell_type": "code",
   "execution_count": null,
   "metadata": {},
   "outputs": [],
   "source": [
    "le = LabelEncoder()\n",
    "data['Day_num'] = le.fit_transform(data.Date)\n",
    "data['Day'] = data['Date'].dt.day\n",
    "data['Month'] = data['Date'].dt.month"
   ]
  },
  {
   "cell_type": "code",
   "execution_count": null,
   "metadata": {},
   "outputs": [],
   "source": [
    "country_dfs = []\n",
    "for country in ['Italy']:#dates_countries['Country_Region'].unique():\n",
    "    country_mask = data['Country_Region'] == country\n",
    "    country_df = data.loc[country_mask]\n",
    "    lags_df = lagging(country_df[['ConfirmedCases', 'Fatalities']])\n",
    "    country_df = pd.concat([country_df, lags_df], axis=1).dropna()"
   ]
  },
  {
   "cell_type": "code",
   "execution_count": null,
   "metadata": {},
   "outputs": [],
   "source": [
    "country_df"
   ]
  },
  {
   "cell_type": "code",
   "execution_count": null,
   "metadata": {},
   "outputs": [],
   "source": []
  }
 ],
 "metadata": {
  "kernelspec": {
   "display_name": "Python 3",
   "language": "python",
   "name": "python3"
  },
  "language_info": {
   "codemirror_mode": {
    "name": "ipython",
    "version": 3
   },
   "file_extension": ".py",
   "mimetype": "text/x-python",
   "name": "python",
   "nbconvert_exporter": "python",
   "pygments_lexer": "ipython3",
   "version": "3.6.5"
  }
 },
 "nbformat": 4,
 "nbformat_minor": 2
}
