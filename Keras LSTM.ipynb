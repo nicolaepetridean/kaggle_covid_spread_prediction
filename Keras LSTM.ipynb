{
 "cells": [
  {
   "cell_type": "code",
   "execution_count": null,
   "metadata": {},
   "outputs": [],
   "source": [
    "import datetime\n",
    "\n",
    "import numpy as np\n",
    "import pandas as pd\n",
    "from tqdm import tqdm_notebook as tqdm\n",
    "import matplotlib.pyplot as plt\n",
    "\n",
    "%matplotlib inline"
   ]
  },
  {
   "cell_type": "code",
   "execution_count": null,
   "metadata": {},
   "outputs": [],
   "source": [
    "def get_masks(df): \n",
    "    train_mask = data['ForecastId'] == -1\n",
    "    validation_mask = data['ForecastId'] == 0\n",
    "    test_mask = data['ForecastId'] > 0\n",
    "    return train_mask, validation_mask, test_mask"
   ]
  },
  {
   "cell_type": "code",
   "execution_count": null,
   "metadata": {},
   "outputs": [],
   "source": [
    "from sklearn.preprocessing import LabelEncoder\n",
    "def add_time_features(data):\n",
    "    le = LabelEncoder()\n",
    "    data['Day_num'] = le.fit_transform(data.Date)\n",
    "    data['Day'] = data['Date'].dt.day\n",
    "    data['Month'] = data['Date'].dt.month\n",
    "    return data"
   ]
  },
  {
   "cell_type": "code",
   "execution_count": null,
   "metadata": {},
   "outputs": [],
   "source": [
    "# from jupyterthemes import jtplot\n",
    "# jtplot.style()"
   ]
  },
  {
   "cell_type": "code",
   "execution_count": null,
   "metadata": {},
   "outputs": [],
   "source": [
    "from tensorflow.keras.preprocessing import sequence\n",
    "\n",
    "def extract_data(data, mask, features, targets):\n",
    "    df = data.loc[mask, features]\n",
    "    X = df.shift(1).iloc[1:]\n",
    "    y = df[targets].iloc[1:]\n",
    "    return X.to_numpy(), y.to_numpy()\n",
    "\n",
    "\n",
    "def get_timeframes_dataset(X_train, y_train, window_size=4):\n",
    "    x_res = []\n",
    "    y_res = []\n",
    "    for xs, ys in zip(X_train, y_train):\n",
    "        data_gen = sequence.TimeseriesGenerator(xs, ys, window_size, batch_size=1)\n",
    "        for x, y in data_gen:\n",
    "            x_res.append(x[0])\n",
    "            y_res.append(y[0])\n",
    "\n",
    "    return np.array(x_res), np.array(y_res)\n",
    "\n",
    "\n",
    "def generate_dataset(data, features, targets, window_size, train_mask, val_mask=None):\n",
    "    X_train = []\n",
    "    X_val = []\n",
    "    y_train = []\n",
    "    y_val = []\n",
    "    for country in states.keys(): #tqdm(['Italy', 'China', 'US', 'Spain', 'Germany', 'Canada', 'Albania']):\n",
    "        for state in states[country]:\n",
    "            state_mask = (data.Country_Region == country) & (data.Province_State == state)\n",
    "                            \n",
    "            X, y = extract_data(data, train_mask & state_mask, features, targets)\n",
    "            X_train.append(X)\n",
    "            y_train.append(y)\n",
    "            \n",
    "            if val_mask is not None:\n",
    "                X, y = extract_data(data, val_mask & state_mask, lstm_features, targets)\n",
    "                X_val.append(X)\n",
    "                y_val.append(y)\n",
    "    \n",
    "    \n",
    "    X_train, y_train = get_timeframes_dataset(X_train, y_train, window_size)\n",
    "    if val_mask is not None:\n",
    "        X_val, y_val = get_timeframes_dataset(X_val, y_val, window_size)\n",
    "        return X_train, y_train, X_val, y_val\n",
    "    \n",
    "    return X_train, y_train"
   ]
  },
  {
   "cell_type": "markdown",
   "metadata": {},
   "source": [
    "#### TODO:\n",
    "    - Add country specific features "
   ]
  },
  {
   "cell_type": "code",
   "execution_count": null,
   "metadata": {},
   "outputs": [],
   "source": [
    "import tensorflow as tf\n",
    "\n",
    "from tensorflow.keras.callbacks import ModelCheckpoint, LearningRateScheduler, ReduceLROnPlateau\n",
    "from tensorflow.keras.callbacks import TensorBoard"
   ]
  },
  {
   "cell_type": "code",
   "execution_count": null,
   "metadata": {},
   "outputs": [],
   "source": [
    "def create_model(n_features, n_targets, window_size, verbose=0):\n",
    "    n_lstm_units = 10 * n_features\n",
    "    model = tf.keras.models.Sequential([\n",
    "        tf.keras.layers.LSTM(n_lstm_units, input_shape=(window_size, n_features), return_sequences=True),\n",
    "        tf.keras.layers.BatchNormalization(),\n",
    "\n",
    "        tf.keras.layers.LSTM(n_lstm_units, return_sequences=True),\n",
    "        tf.keras.layers.BatchNormalization(),\n",
    "        tf.keras.layers.Dropout(0.05),\n",
    "\n",
    "        tf.keras.layers.LSTM(n_lstm_units, return_sequences=True),\n",
    "        tf.keras.layers.BatchNormalization(),\n",
    "        tf.keras.layers.Dropout(0.1),\n",
    "\n",
    "        tf.keras.layers.LSTM(n_lstm_units),\n",
    "        tf.keras.layers.BatchNormalization(),\n",
    "        tf.keras.layers.Dropout(0.2),\n",
    "\n",
    "        tf.keras.layers.Dense(n_lstm_units, activation='relu'),\n",
    "        tf.keras.layers.Dense(2 * n_features, activation='relu'),\n",
    "        tf.keras.layers.Dense(n_targets, activation='relu'),\n",
    "    ])\n",
    "    if verbose > 0:\n",
    "        model.summary()\n",
    "    return model"
   ]
  },
  {
   "cell_type": "code",
   "execution_count": null,
   "metadata": {},
   "outputs": [],
   "source": [
    "import tensorflow.keras.backend as K\n",
    "\n",
    "def rmsle(y, y0):\n",
    "    return K.sqrt(K.mean(K.pow(K.log(y + 1) - K.log(y0 + 1), 2)))"
   ]
  },
  {
   "cell_type": "code",
   "execution_count": null,
   "metadata": {},
   "outputs": [],
   "source": [
    "def lr_schedule(epoch):\n",
    "    lr = 1e-2\n",
    "    if epoch > 10:\n",
    "        lr = 1e-3\n",
    "    if epoch > 20:\n",
    "        lr = 5e-4\n",
    "    if epoch > 70:\n",
    "        lr = 1e-5\n",
    "    print('Learning rate reduced: ', lr)\n",
    "    return lr"
   ]
  },
  {
   "cell_type": "code",
   "execution_count": null,
   "metadata": {},
   "outputs": [],
   "source": [
    "def train_model(model, model_title, loss, metrics):\n",
    "    model.compile('adam', loss, metrics=metrics)\n",
    "    reduce_lr = ReduceLROnPlateau(monitor='loss', factor=0.2, patience=10, min_lr=0.0001, verbose=1)\n",
    "    tnsboard = TensorBoard(log_dir=f'logs\\\\{model_title}')\n",
    "    name_template = 'rmsle_{val_rmsle:.3f}_epoch_{epoch:02d}'\n",
    "    checkout = ModelCheckpoint(f'models\\\\{model_title}_{name_template}.hdf5', monitor=f'val_rmsle', save_best_only=True)\n",
    "    callbacks = [tnsboard, reduce_lr, checkout]\n",
    "    model.fit(X_train, y_train, validation_data=(X_val, y_val), batch_size=128, epochs=400, callbacks=callbacks)\n",
    "    return model"
   ]
  },
  {
   "cell_type": "markdown",
   "metadata": {},
   "source": [
    "## Prepare data"
   ]
  },
  {
   "cell_type": "code",
   "execution_count": null,
   "metadata": {},
   "outputs": [],
   "source": [
    "train_data = pd.read_csv('data/in/train.csv').fillna('NaN').drop(columns=['Id'])\n",
    "test_data = pd.read_csv('data/in/test.csv').fillna('NaN')"
   ]
  },
  {
   "cell_type": "code",
   "execution_count": null,
   "metadata": {},
   "outputs": [],
   "source": [
    "start_training = pd.to_datetime('2020-01-19')\n",
    "train_up_to = pd.to_datetime('2020-03-25')\n",
    "public_test_up_to = pd.to_datetime('2020-04-08')"
   ]
  },
  {
   "cell_type": "code",
   "execution_count": null,
   "metadata": {},
   "outputs": [],
   "source": [
    "train_data['Date'] = pd.to_datetime(train_data['Date'])\n",
    "test_data['Date'] = pd.to_datetime(test_data['Date'])\n",
    "\n",
    "public_mask = np.logical_and(start_training < train_data['Date'], train_data['Date'] <= train_up_to)\n",
    "validation_mask = train_up_to < train_data['Date']"
   ]
  },
  {
   "cell_type": "code",
   "execution_count": null,
   "metadata": {},
   "outputs": [],
   "source": [
    "train_data.loc[public_mask, 'ForecastId'] = -1\n",
    "train_data.loc[validation_mask, 'ForecastId'] = 0\n",
    "\n",
    "test_data['ConfirmedCases'] = 0.0\n",
    "test_data['Fatalities'] = 0.0"
   ]
  },
  {
   "cell_type": "code",
   "execution_count": null,
   "metadata": {},
   "outputs": [],
   "source": [
    "data = pd.concat([train_data, test_data], ignore_index=True)"
   ]
  },
  {
   "cell_type": "code",
   "execution_count": null,
   "metadata": {},
   "outputs": [],
   "source": [
    "train_data.tail(20)"
   ]
  },
  {
   "cell_type": "code",
   "execution_count": null,
   "metadata": {},
   "outputs": [],
   "source": [
    "test_data"
   ]
  },
  {
   "cell_type": "code",
   "execution_count": null,
   "metadata": {},
   "outputs": [],
   "source": [
    "states = {}\n",
    "for c in data['Country_Region'].unique():\n",
    "    states[c] = data[data['Country_Region'] == c]['Province_State'].unique()"
   ]
  },
  {
   "cell_type": "code",
   "execution_count": null,
   "metadata": {},
   "outputs": [],
   "source": [
    "train_mask, validation_mask, test_mask = get_masks(data)\n",
    "data = add_time_features(data)"
   ]
  },
  {
   "cell_type": "markdown",
   "metadata": {},
   "source": [
    "### Format data for LSTM"
   ]
  },
  {
   "cell_type": "code",
   "execution_count": null,
   "metadata": {},
   "outputs": [],
   "source": [
    "data"
   ]
  },
  {
   "cell_type": "code",
   "execution_count": null,
   "metadata": {},
   "outputs": [],
   "source": [
    "lstm_features = ['Day_num', 'Day', 'Month', 'ConfirmedCases', 'Fatalities']\n",
    "lstm_targets = ['ConfirmedCases', 'Fatalities']\n",
    "window_size = 4\n",
    "\n",
    "train_mask, val_mask, test_mask = get_masks(data)\n",
    "X_train, y_train, X_val, y_val = generate_dataset(data, lstm_features, lstm_targets, window_size, train_mask, val_mask)"
   ]
  },
  {
   "cell_type": "code",
   "execution_count": null,
   "metadata": {},
   "outputs": [],
   "source": [
    "n_features = len(lstm_features)\n",
    "n_targets = len(lstm_targets)\n",
    "\n",
    "model = create_model(n_features, n_targets, window_size, verbose=0)"
   ]
  },
  {
   "cell_type": "code",
   "execution_count": null,
   "metadata": {},
   "outputs": [],
   "source": []
  },
  {
   "cell_type": "code",
   "execution_count": null,
   "metadata": {},
   "outputs": [],
   "source": []
  },
  {
   "cell_type": "code",
   "execution_count": null,
   "metadata": {},
   "outputs": [],
   "source": []
  },
  {
   "cell_type": "code",
   "execution_count": null,
   "metadata": {},
   "outputs": [],
   "source": [
    "train_model(model, 'lstm_3xlstm_batchnorm_dropout_3xdense', 'msle', [rmsle])"
   ]
  },
  {
   "cell_type": "code",
   "execution_count": null,
   "metadata": {},
   "outputs": [],
   "source": [
    "x = np.log1p(1.37)\n",
    "x"
   ]
  },
  {
   "cell_type": "code",
   "execution_count": null,
   "metadata": {},
   "outputs": [],
   "source": []
  },
  {
   "cell_type": "code",
   "execution_count": null,
   "metadata": {},
   "outputs": [],
   "source": []
  },
  {
   "cell_type": "code",
   "execution_count": null,
   "metadata": {},
   "outputs": [],
   "source": [
    "def predict(test_df, model):\n",
    "    lags_queue = deque(test_df.iloc[0, -20:], maxlen=20)\n",
    "    res = []\n",
    "    for i, df_row in test_df.iterrows():\n",
    "        X_test = df_row[['Day_num', 'Day', 'Month']].to_numpy().tolist()\n",
    "        X_test = np.array([X_test + list(lags_queue)])\n",
    "        \n",
    "        y_pred =  model.predict(X_test).flatten()\n",
    "        \n",
    "        lags_queue.appendleft(y_pred[1])\n",
    "        lags_queue.appendleft(y_pred[0])\n",
    "\n",
    "        res.append(y_pred)\n",
    "    \n",
    "    return res"
   ]
  }
 ],
 "metadata": {
  "kernelspec": {
   "display_name": "Python 3.6 Covid",
   "language": "python",
   "name": "covid"
  },
  "language_info": {
   "codemirror_mode": {
    "name": "ipython",
    "version": 3
   },
   "file_extension": ".py",
   "mimetype": "text/x-python",
   "name": "python",
   "nbconvert_exporter": "python",
   "pygments_lexer": "ipython3",
   "version": "3.6.8"
  }
 },
 "nbformat": 4,
 "nbformat_minor": 2
}
